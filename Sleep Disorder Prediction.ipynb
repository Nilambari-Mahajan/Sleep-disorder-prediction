{
  "cells": [
    {
      "cell_type": "markdown",
      "source": [
        "                                              **Sleep Disorder Prediction Model**\n",
        "\n",
        "Name : Nilambari Mahajan\n",
        "\n",
        "\n",
        "\n",
        "\n",
        "\n",
        "\n",
        "PRN  : 202201040118\n",
        "\n",
        "\n",
        "\n",
        "\n",
        "\n",
        "\n",
        "\n",
        "\n",
        "\n",
        "Name : Rutuja Udanshiv\n",
        "\n",
        "\n",
        "\n",
        "\n",
        "\n",
        "\n",
        "\n",
        "\n",
        "\n",
        "\n",
        "\n",
        "\n",
        "PRN  : 202201040120"
      ],
      "metadata": {
        "id": "uozvppcyNIFJ"
      }
    },
    {
      "cell_type": "code",
      "source": [
        "# Importing necessary libraries\n",
        "import pandas as pd\n",
        "import numpy as np\n",
        "import seaborn as sns\n",
        "import matplotlib.pyplot as plt\n",
        "from sklearn.model_selection import train_test_split, cross_val_score\n",
        "from sklearn.preprocessing import LabelEncoder, StandardScaler\n",
        "from sklearn.linear_model import LogisticRegression\n",
        "from sklearn.tree import DecisionTreeClassifier\n",
        "from sklearn.ensemble import RandomForestClassifier, GradientBoostingClassifier\n",
        "from sklearn.metrics import classification_report, confusion_matrix, accuracy_score\n",
        "import joblib"
      ],
      "metadata": {
        "id": "qWAVKgt6cAhQ"
      },
      "execution_count": null,
      "outputs": []
    },
    {
      "cell_type": "markdown",
      "source": [],
      "metadata": {
        "id": "Z805ck7yIyZI"
      }
    },
    {
      "cell_type": "code",
      "source": [
        "# Load dataset\n",
        "file_path = '/content/Sleep_health_and_lifestyle_dataset.csv'\n",
        "sleep_data = pd.read_csv(file_path)"
      ],
      "metadata": {
        "id": "DEF32gGGI3Gn"
      },
      "execution_count": null,
      "outputs": []
    },
    {
      "cell_type": "markdown",
      "source": [],
      "metadata": {
        "id": "zS4isOJfI8zy"
      }
    },
    {
      "cell_type": "code",
      "source": [
        "# Phase 1: Statistical Summary and Data Exploration\n",
        "print(\"Dataset Shape:\", sleep_data.shape)\n",
        "print(\"\\nSummary Statistics:\\n\", sleep_data.describe())\n",
        "print(\"\\nNull Values:\\n\", sleep_data.isnull().sum())\n",
        "print(\"\\nDataset Head:\\n\", sleep_data.head())\n",
        "\n",
        "\n"
      ],
      "metadata": {
        "id": "e0VSKinZJFQ1",
        "outputId": "2ebab50d-60c4-4eeb-dd38-b4f07291be0b",
        "colab": {
          "base_uri": "https://localhost:8080/"
        }
      },
      "execution_count": null,
      "outputs": [
        {
          "output_type": "stream",
          "name": "stdout",
          "text": [
            "Dataset Shape: (374, 13)\n",
            "\n",
            "Summary Statistics:\n",
            "         Person ID         Age  Sleep Duration  Quality of Sleep  \\\n",
            "count  374.000000  374.000000      374.000000        374.000000   \n",
            "mean   187.500000   42.184492        7.132086          7.312834   \n",
            "std    108.108742    8.673133        0.795657          1.196956   \n",
            "min      1.000000   27.000000        5.800000          4.000000   \n",
            "25%     94.250000   35.250000        6.400000          6.000000   \n",
            "50%    187.500000   43.000000        7.200000          7.000000   \n",
            "75%    280.750000   50.000000        7.800000          8.000000   \n",
            "max    374.000000   59.000000        8.500000          9.000000   \n",
            "\n",
            "       Physical Activity Level  Stress Level  Heart Rate   Daily Steps  \n",
            "count               374.000000    374.000000  374.000000    374.000000  \n",
            "mean                 59.171123      5.385027   70.165775   6816.844920  \n",
            "std                  20.830804      1.774526    4.135676   1617.915679  \n",
            "min                  30.000000      3.000000   65.000000   3000.000000  \n",
            "25%                  45.000000      4.000000   68.000000   5600.000000  \n",
            "50%                  60.000000      5.000000   70.000000   7000.000000  \n",
            "75%                  75.000000      7.000000   72.000000   8000.000000  \n",
            "max                  90.000000      8.000000   86.000000  10000.000000  \n",
            "\n",
            "Null Values:\n",
            " Person ID                    0\n",
            "Gender                       0\n",
            "Age                          0\n",
            "Occupation                   0\n",
            "Sleep Duration               0\n",
            "Quality of Sleep             0\n",
            "Physical Activity Level      0\n",
            "Stress Level                 0\n",
            "BMI Category                 0\n",
            "Blood Pressure               0\n",
            "Heart Rate                   0\n",
            "Daily Steps                  0\n",
            "Sleep Disorder             219\n",
            "dtype: int64\n",
            "\n",
            "Dataset Head:\n",
            "    Person ID Gender  Age            Occupation  Sleep Duration  \\\n",
            "0          1   Male   27     Software Engineer             6.1   \n",
            "1          2   Male   28                Doctor             6.2   \n",
            "2          3   Male   28                Doctor             6.2   \n",
            "3          4   Male   28  Sales Representative             5.9   \n",
            "4          5   Male   28  Sales Representative             5.9   \n",
            "\n",
            "   Quality of Sleep  Physical Activity Level  Stress Level BMI Category  \\\n",
            "0                 6                       42             6   Overweight   \n",
            "1                 6                       60             8       Normal   \n",
            "2                 6                       60             8       Normal   \n",
            "3                 4                       30             8        Obese   \n",
            "4                 4                       30             8        Obese   \n",
            "\n",
            "  Blood Pressure  Heart Rate  Daily Steps Sleep Disorder  \n",
            "0         126/83          77         4200            NaN  \n",
            "1         125/80          75        10000            NaN  \n",
            "2         125/80          75        10000            NaN  \n",
            "3         140/90          85         3000    Sleep Apnea  \n",
            "4         140/90          85         3000    Sleep Apnea  \n"
          ]
        }
      ]
    },
    {
      "cell_type": "code",
      "source": [
        "# Exploratory Data Analysis (EDA)\n",
        "sns.countplot(x='Gender', data=sleep_data)\n",
        "plt.title('Gender Distribution')\n",
        "plt.show()\n",
        "\n",
        "sns.histplot(sleep_data['Sleep Duration'], kde=True, bins=10)\n",
        "plt.title('Sleep Duration Distribution')\n",
        "plt.show()\n",
        "\n",
        "sns.boxplot(x='BMI Category', y='Sleep Duration', data=sleep_data)\n",
        "plt.title('Sleep Duration by BMI Category')\n",
        "plt.show()"
      ],
      "metadata": {
        "id": "XYppB52VJOGT",
        "outputId": "a2b6bc9f-1a9d-4f66-c8b0-5be33b1765bc",
        "colab": {
          "base_uri": "https://localhost:8080/",
          "height": 1000
        }
      },
      "execution_count": null,
      "outputs": [
        {
          "output_type": "display_data",
          "data": {
            "text/plain": [
              "<Figure size 640x480 with 1 Axes>"
            ],
            "image/png": "[encoded data removed]"
          },
          "metadata": {}
        },
        {
          "output_type": "display_data",
          "data": {
            "text/plain": [
              "<Figure size 640x480 with 1 Axes>"
            ],
            "image/png": "[encoded data removed]"
          },
          "metadata": {}
        },
        {
          "output_type": "display_data",
          "data": {
            "text/plain": [
              "<Figure size 640x480 with 1 Axes>"
            ],
            "image/png": "[encoded data removed]"
          },
          "metadata": {}
        }
      ]
    },
    {
      "cell_type": "code",
      "source": [
        "# Phase 2: Data Preparation\n",
        "encoder = LabelEncoder()\n",
        "categorical_columns = ['Gender', 'Occupation', 'BMI Category', 'Sleep Disorder']\n",
        "for col in categorical_columns:\n",
        "    sleep_data[col] = encoder.fit_transform(sleep_data[col])\n",
        "\n",
        "scaler = StandardScaler()\n",
        "numerical_columns = ['Age', 'Sleep Duration', 'Quality of Sleep',\n",
        "                     'Physical Activity Level', 'Stress Level',\n",
        "                     'Heart Rate', 'Daily Steps']\n",
        "sleep_data[numerical_columns] = scaler.fit_transform(sleep_data[numerical_columns])\n"
      ],
      "metadata": {
        "id": "XPTja_ZNJhAP"
      },
      "execution_count": null,
      "outputs": []
    },
    {
      "cell_type": "code",
      "source": [
        "# Phase 3: Data Splitting\n",
        "X = sleep_data.drop(['Person ID', 'Blood Pressure', 'Sleep Disorder'], axis=1)\n",
        "y = sleep_data['Sleep Disorder']\n",
        "X_train, X_test, y_train, y_test = train_test_split(X, y, test_size=0.3, random_state=42, stratify=y)"
      ],
      "metadata": {
        "id": "cMnL4GH1JqlG"
      },
      "execution_count": null,
      "outputs": []
    },
    {
      "cell_type": "code",
      "source": [
        "# Phase 4: Implementation - Training Models\n",
        "models = {\n",
        "    \"Logistic Regression\": LogisticRegression(max_iter=1000, random_state=42),\n",
        "    \"Decision Tree\": DecisionTreeClassifier(random_state=42),\n",
        "    \"Random Forest\": RandomForestClassifier(random_state=42),\n",
        "    \"Gradient Boosting\": GradientBoostingClassifier(random_state=42)\n",
        "}\n",
        "\n",
        "results = {}\n",
        "for name, model in models.items():\n",
        "    model.fit(X_train, y_train)\n",
        "    predictions = model.predict(X_test)\n",
        "    accuracy = accuracy_score(y_test, predictions)\n",
        "    results[name] = accuracy\n",
        "    print(f\"\\n{name}:\\n\")\n",
        "    print(\"Classification Report:\\n\", classification_report(y_test, predictions))\n",
        "    print(\"Confusion Matrix:\\n\", confusion_matrix(y_test, predictions))"
      ],
      "metadata": {
        "id": "Fk3YqbwZJzvN",
        "outputId": "51d4372b-a7d8-4da7-e54d-1396decbce15",
        "colab": {
          "base_uri": "https://localhost:8080/"
        }
      },
      "execution_count": null,
      "outputs": [
        {
          "output_type": "stream",
          "name": "stdout",
          "text": [
            "\n",
            "Logistic Regression:\n",
            "\n",
            "Classification Report:\n",
            "               precision    recall  f1-score   support\n",
            "\n",
            "           0       0.83      0.83      0.83        23\n",
            "           1       0.74      0.83      0.78        24\n",
            "           2       0.95      0.91      0.93        66\n",
            "\n",
            "    accuracy                           0.88       113\n",
            "   macro avg       0.84      0.86      0.85       113\n",
            "weighted avg       0.88      0.88      0.88       113\n",
            "\n",
            "Confusion Matrix:\n",
            " [[19  3  1]\n",
            " [ 2 20  2]\n",
            " [ 2  4 60]]\n",
            "\n",
            "Decision Tree:\n",
            "\n",
            "Classification Report:\n",
            "               precision    recall  f1-score   support\n",
            "\n",
            "           0       0.81      0.91      0.86        23\n",
            "           1       0.84      0.88      0.86        24\n",
            "           2       0.98      0.92      0.95        66\n",
            "\n",
            "    accuracy                           0.91       113\n",
            "   macro avg       0.88      0.90      0.89       113\n",
            "weighted avg       0.92      0.91      0.91       113\n",
            "\n",
            "Confusion Matrix:\n",
            " [[21  2  0]\n",
            " [ 2 21  1]\n",
            " [ 3  2 61]]\n",
            "\n",
            "Random Forest:\n",
            "\n",
            "Classification Report:\n",
            "               precision    recall  f1-score   support\n",
            "\n",
            "           0       0.84      0.91      0.88        23\n",
            "           1       0.84      0.88      0.86        24\n",
            "           2       0.98      0.94      0.96        66\n",
            "\n",
            "    accuracy                           0.92       113\n",
            "   macro avg       0.89      0.91      0.90       113\n",
            "weighted avg       0.92      0.92      0.92       113\n",
            "\n",
            "Confusion Matrix:\n",
            " [[21  2  0]\n",
            " [ 2 21  1]\n",
            " [ 2  2 62]]\n",
            "\n",
            "Gradient Boosting:\n",
            "\n",
            "Classification Report:\n",
            "               precision    recall  f1-score   support\n",
            "\n",
            "           0       0.83      0.87      0.85        23\n",
            "           1       0.81      0.88      0.84        24\n",
            "           2       0.98      0.94      0.96        66\n",
            "\n",
            "    accuracy                           0.91       113\n",
            "   macro avg       0.88      0.89      0.88       113\n",
            "weighted avg       0.92      0.91      0.91       113\n",
            "\n",
            "Confusion Matrix:\n",
            " [[20  3  0]\n",
            " [ 2 21  1]\n",
            " [ 2  2 62]]\n"
          ]
        }
      ]
    },
    {
      "cell_type": "code",
      "source": [
        "# Phase 5: Optimization and Cross-Validation\n",
        "best_model_name = max(results, key=results.get)\n",
        "best_model = models[best_model_name]\n",
        "print(f\"\\nBest Model: {best_model_name} with accuracy: {results[best_model_name]}\")\n",
        "\n",
        "cv_scores = cross_val_score(best_model, X, y, cv=5)\n",
        "print(f\"\\nCross-validation scores for {best_model_name}: {cv_scores}\")\n",
        "print(f\"Mean CV Score: {np.mean(cv_scores)}\")"
      ],
      "metadata": {
        "id": "Jvq6OeNNJ4lf",
        "outputId": "e0058809-fd04-4048-8b2c-45fdeff359de",
        "colab": {
          "base_uri": "https://localhost:8080/"
        }
      },
      "execution_count": null,
      "outputs": [
        {
          "output_type": "stream",
          "name": "stdout",
          "text": [
            "\n",
            "Best Model: Random Forest with accuracy: 0.9203539823008849\n",
            "\n",
            "Cross-validation scores for Random Forest: [0.65333333 0.66666667 0.96       0.50666667 0.83783784]\n",
            "Mean CV Score: 0.7249009009009009\n"
          ]
        }
      ]
    },
    {
      "cell_type": "code",
      "source": [
        "# Phase 6: Save the Best Model\n",
        "joblib.dump(best_model, '/content/best_sleep_model.pkl')\n",
        "print(\"Best model saved as best_sleep_model.pkl\")\n"
      ],
      "metadata": {
        "id": "5A7_2bd9J80A",
        "outputId": "8761a31b-3742-456f-aa81-974c262a10cd",
        "colab": {
          "base_uri": "https://localhost:8080/"
        }
      },
      "execution_count": null,
      "outputs": [
        {
          "output_type": "stream",
          "name": "stdout",
          "text": [
            "Best model saved as best_sleep_model.pkl\n"
          ]
        }
      ]
    },
    {
      "cell_type": "code",
      "source": [
        "# Importing necessary libraries for evaluation\n",
        "from sklearn.metrics import classification_report, confusion_matrix, accuracy_score, precision_score, recall_score, f1_score\n",
        "\n",
        "# Evaluate the performance of each model\n",
        "evaluation_metrics = {}\n",
        "\n",
        "for name, model in models.items():\n",
        "    # Predictions\n",
        "    predictions = model.predict(X_test)\n",
        "\n",
        "    # Metrics Calculation\n",
        "    accuracy = accuracy_score(y_test, predictions)\n",
        "    precision = precision_score(y_test, predictions, average='weighted')\n",
        "    recall = recall_score(y_test, predictions, average='weighted')\n",
        "    f1 = f1_score(y_test, predictions, average='weighted')\n",
        "    conf_matrix = confusion_matrix(y_test, predictions)\n",
        "\n",
        "    # Storing metrics for each model\n",
        "    evaluation_metrics[name] = {\n",
        "        \"Accuracy\": accuracy,\n",
        "        \"Precision\": precision,\n",
        "        \"Recall\": recall,\n",
        "        \"F1 Score\": f1\n",
        "    }\n",
        "\n",
        "    # Print Evaluation Results\n",
        "    print(f\"\\n{name} Evaluation Metrics:\")\n",
        "    print(f\"Accuracy: {accuracy:.4f}\")\n",
        "    print(f\"Precision: {precision:.4f}\")\n",
        "    print(f\"Recall: {recall:.4f}\")\n",
        "    print(f\"F1 Score: {f1:.4f}\")\n",
        "    print(f\"Confusion Matrix:\\n{conf_matrix}\\n\")\n",
        "\n",
        "# Displaying the summary of all models\n",
        "print(\"\\nSummary of Model Performance:\")\n",
        "summary_df = pd.DataFrame(evaluation_metrics).T\n",
        "print(summary_df)\n",
        "\n",
        "# Highlight the best model based on F1 Score\n",
        "best_model_name = summary_df['F1 Score'].idxmax()\n",
        "print(f\"\\nBest Model based on F1 Score: {best_model_name}\")\n"
      ],
      "metadata": {
        "id": "lIM8OZj8LH7X",
        "outputId": "9625862a-c79c-48ff-f8d7-c6f2e1f2e1e5",
        "colab": {
          "base_uri": "https://localhost:8080/"
        }
      },
      "execution_count": null,
      "outputs": [
        {
          "output_type": "stream",
          "name": "stdout",
          "text": [
            "\n",
            "Logistic Regression Evaluation Metrics:\n",
            "Accuracy: 0.8761\n",
            "Precision: 0.8817\n",
            "Recall: 0.8761\n",
            "F1 Score: 0.8780\n",
            "Confusion Matrix:\n",
            "[[19  3  1]\n",
            " [ 2 20  2]\n",
            " [ 2  4 60]]\n",
            "\n",
            "\n",
            "Decision Tree Evaluation Metrics:\n",
            "Accuracy: 0.9115\n",
            "Precision: 0.9175\n",
            "Recall: 0.9115\n",
            "F1 Score: 0.9132\n",
            "Confusion Matrix:\n",
            "[[21  2  0]\n",
            " [ 2 21  1]\n",
            " [ 3  2 61]]\n",
            "\n",
            "\n",
            "Random Forest Evaluation Metrics:\n",
            "Accuracy: 0.9204\n",
            "Precision: 0.9242\n",
            "Recall: 0.9204\n",
            "F1 Score: 0.9216\n",
            "Confusion Matrix:\n",
            "[[21  2  0]\n",
            " [ 2 21  1]\n",
            " [ 2  2 62]]\n",
            "\n",
            "\n",
            "Gradient Boosting Evaluation Metrics:\n",
            "Accuracy: 0.9115\n",
            "Precision: 0.9160\n",
            "Recall: 0.9115\n",
            "F1 Score: 0.9131\n",
            "Confusion Matrix:\n",
            "[[20  3  0]\n",
            " [ 2 21  1]\n",
            " [ 2  2 62]]\n",
            "\n",
            "\n",
            "Summary of Model Performance:\n",
            "                     Accuracy  Precision    Recall  F1 Score\n",
            "Logistic Regression  0.876106   0.881725  0.876106  0.878043\n",
            "Decision Tree        0.911504   0.917455  0.911504  0.913203\n",
            "Random Forest        0.920354   0.924180  0.920354  0.921578\n",
            "Gradient Boosting    0.911504   0.915962  0.911504  0.913065\n",
            "\n",
            "Best Model based on F1 Score: Random Forest\n"
          ]
        }
      ]
    },
    {
      "cell_type": "code",
      "source": [
        "from sklearn.tree import DecisionTreeRegressor\n",
        "from sklearn.neighbors import KNeighborsRegressor\n",
        "from sklearn.metrics import mean_squared_error, mean_absolute_error, r2_score\n",
        "import numpy as np\n",
        "\n",
        "# Split dataset for regression task\n",
        "X = sleep_data.drop(['Person ID', 'Blood Pressure', 'Sleep Duration'], axis=1)  # Example: predict 'Sleep Duration'\n",
        "y = sleep_data['Sleep Duration']\n",
        "\n",
        "X_train, X_test, y_train, y_test = train_test_split(X, y, test_size=0.3, random_state=42)\n",
        "\n",
        "# Initialize models\n",
        "regression_models = {\n",
        "    \"Decision Tree (Regression)\": DecisionTreeRegressor(random_state=42),\n",
        "    \"KNN (Regression)\": KNeighborsRegressor()\n",
        "}\n",
        "\n",
        "# Evaluate models\n",
        "regression_results = {}\n",
        "\n",
        "for name, model in regression_models.items():\n",
        "    model.fit(X_train, y_train)\n",
        "    predictions = model.predict(X_test)\n",
        "\n",
        "    # Calculate metrics\n",
        "    mse = mean_squared_error(y_test, predictions)\n",
        "    rmse = np.sqrt(mse)\n",
        "    mae = mean_absolute_error(y_test, predictions)\n",
        "    r2 = r2_score(y_test, predictions)\n",
        "\n",
        "    regression_results[name] = {\n",
        "        \"MSE\": mse,\n",
        "        \"RMSE\": rmse,\n",
        "        \"MAE\": mae,\n",
        "        \"R² Score\": r2\n",
        "    }\n",
        "\n",
        "    # Print results\n",
        "    print(f\"\\n{name} Metrics:\")\n",
        "    print(f\"MSE: {mse:.4f}\")\n",
        "    print(f\"RMSE: {rmse:.4f}\")\n",
        "    print(f\"MAE: {mae:.4f}\")\n",
        "    print(f\"R² Score: {r2:.4f}\")\n",
        "\n",
        "# Summary of regression results\n",
        "print(\"\\nRegression Model Comparison:\")\n",
        "regression_summary = pd.DataFrame(regression_results).T\n",
        "print(regression_summary)\n",
        "\n",
        "# Identify the best model\n",
        "best_reg_model = regression_summary['R² Score'].idxmax()\n",
        "print(f\"\\nBest Regression Model: {best_reg_model}\")\n"
      ],
      "metadata": {
        "id": "KBdhHlfhMqeK",
        "outputId": "8681838d-2695-4b32-a873-d5400823d0ac",
        "colab": {
          "base_uri": "https://localhost:8080/"
        }
      },
      "execution_count": null,
      "outputs": [
        {
          "output_type": "stream",
          "name": "stdout",
          "text": [
            "\n",
            "Decision Tree (Regression) Metrics:\n",
            "MSE: 0.0116\n",
            "RMSE: 0.1077\n",
            "MAE: 0.0692\n",
            "R² Score: 0.9893\n",
            "\n",
            "KNN (Regression) Metrics:\n",
            "MSE: 0.0200\n",
            "RMSE: 0.1415\n",
            "MAE: 0.0942\n",
            "R² Score: 0.9816\n",
            "\n",
            "Regression Model Comparison:\n",
            "                                 MSE      RMSE       MAE  R² Score\n",
            "Decision Tree (Regression)  0.011589  0.107654  0.069193  0.989344\n",
            "KNN (Regression)            0.020010  0.141455  0.094221  0.981602\n",
            "\n",
            "Best Regression Model: Decision Tree (Regression)\n"
          ]
        }
      ]
    }
  ],
  "metadata": {
    "colab": {
      "provenance": []
    },
    "kernelspec": {
      "display_name": "Python 3",
      "name": "python3"
    }
  },
  "nbformat": 4,
  "nbformat_minor": 0
}